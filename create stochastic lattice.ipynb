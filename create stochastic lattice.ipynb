{
 "cells": [
  {
   "cell_type": "code",
   "execution_count": 2,
   "id": "b9069708-4f03-44f9-b516-75b3e5a62a7a",
   "metadata": {},
   "outputs": [],
   "source": [
    "# Import necessary packages\n",
    "import pandas as pd\n",
    "import random\n",
    "from matplotlib import pyplot as plt\n",
    "import numpy as np\n",
    "from scipy.stats import linregress"
   ]
  },
  {
   "cell_type": "code",
   "execution_count": 3,
   "id": "9f412749-8245-467d-a5be-773f68c340fb",
   "metadata": {},
   "outputs": [],
   "source": [
    "# Helper function to check if two blocks share an edge\n",
    "def shares_edge(block_a, block_b):\n",
    "    # Check for shared vertical edges\n",
    "    if (block_a['x2'] == block_b['x1'] and max(block_a['y1'], block_b['y1']) < min(block_a['y3'], block_b['y3'])) or \\\n",
    "        (block_a['x1'] == block_b['x2'] and max(block_a['y1'], block_b['y1']) < min(block_a['y3'], block_b['y3'])):\n",
    "        return True\n",
    "    # Check for shared horizontal edges\n",
    "    if (block_a['y3'] == block_b['y1'] and max(block_a['x1'], block_b['x1']) < min(block_a['x2'], block_b['x2'])) or \\\n",
    "        (block_a['y1'] == block_b['y3'] and max(block_a['x1'], block_b['x1']) < min(block_a['x2'], block_b['x2'])):\n",
    "        return True\n",
    "    return False"
   ]
  },
  {
   "cell_type": "code",
   "execution_count": 24,
   "id": "08830c1d-64ef-4a2d-ada7-e63e8b229609",
   "metadata": {},
   "outputs": [],
   "source": [
    "class PlanarStoLattice:\n",
    "    def __init__(self, time):\n",
    "        self.blocks = [{\n",
    "            'x1': 0, 'y1': 0,\n",
    "            'x2': 1, 'y2': 0,\n",
    "            'x3': 1, 'y3': 1,\n",
    "            'x4': 0, 'y4': 1,\n",
    "            'xlen': 1, 'ylen': 1,\n",
    "            'neighbors': None}]\n",
    "        self.time = time\n",
    "        self.lattice = None #This will store the dataframe with all information about the lattice\n",
    "\n",
    "    def generate(self):\n",
    "        linewidth = 0.4\n",
    "        # Draw initial square\n",
    "        plt.hlines([0, 1], 0, 1, linewidth=linewidth)\n",
    "        plt.vlines([0, 1], 0, 1, linewidth=linewidth)\n",
    "\n",
    "        for _ in range(self.time):\n",
    "            # Choose a random block\n",
    "            selected_idx = random.randint(0, len(self.blocks) - 1)\n",
    "            selected_block = self.blocks[selected_idx]\n",
    "    \n",
    "            # Calculate random lengths\n",
    "            num_x = random.random() * selected_block['xlen']\n",
    "            num_y = random.random() * selected_block['ylen']\n",
    "    \n",
    "            # Calculate new block coordinates\n",
    "            x1, y1 = selected_block['x1'], selected_block['y1']\n",
    "            x2, y2 = x1 + num_x, y1 + num_y\n",
    "            x3, y3 = selected_block['x2'], selected_block['y4']\n",
    "    \n",
    "            # Draw dividing lines\n",
    "            plt.hlines(y2, x1, x3, linewidth=linewidth)\n",
    "            plt.vlines(x2, y1, y3, linewidth=linewidth)\n",
    "    \n",
    "            # Length of blocks\n",
    "            l = len(self.blocks)\n",
    "    \n",
    "            # Create new blocks\n",
    "            block_1 = {'x1': x1, 'y1': y1, 'x2': x2, 'y2': y1, 'x3': x2, 'y3': y2, 'x4': x1, 'y4': y2, 'xlen': num_x, 'ylen': num_y, 'neighbors':[l, l+2]}\n",
    "            block_2 = {'x1': x2, 'y1': y1, 'x2': x3, 'y2': y1, 'x3': x3, 'y3': y2, 'x4': x2, 'y4': y2, 'xlen': x3-x2, 'ylen': num_y, 'neighbors':[selected_idx, l+1]}\n",
    "            block_3 = {'x1': x2, 'y1': y2, 'x2': x3, 'y2': y2, 'x3': x3, 'y3': y3, 'x4': x2, 'y4': y3, 'xlen': x3-x2, 'ylen': y3-y2, 'neighbors':[l, l+2]}\n",
    "            block_4 = {'x1': x1, 'y1': y2, 'x2': x2, 'y2': y2, 'x3': x2, 'y3': y3, 'x4': x1, 'y4': y3, 'xlen': num_x, 'ylen': y3-y2, 'neighbors':[selected_idx, l+1]}\n",
    "    \n",
    "            #Save parents neighbors\n",
    "            neighbors = self.blocks[selected_idx]['neighbors']\n",
    "    \n",
    "            # Replace the selected block with the new blocks\n",
    "            self.blocks[selected_idx] = block_1\n",
    "            self.blocks.extend([block_2, block_3, block_4])\n",
    "    \n",
    "            #Update neighbors\n",
    "            if neighbors is not None:\n",
    "                for j in neighbors:\n",
    "                        self.blocks[j]['neighbors'].remove(selected_idx) #Delete selected block index from the previous neighbors\n",
    "                for i in [selected_idx, l, l+1, l+2]:\n",
    "                    for j in neighbors:\n",
    "                        if shares_edge(self.blocks[i], self.blocks[j]):\n",
    "                            self.blocks[i]['neighbors'].append(j)\n",
    "                            self.blocks[j]['neighbors'].append(i)\n",
    "    \n",
    "        # Convert final list of blocks to a DataFrame\n",
    "        self.blocks = pd.DataFrame(self.blocks)\n",
    "\n",
    "        #Count number of neighbors for each block\n",
    "        self.blocks[\"number_of_neighbors\"] = [len(i) for i in self.blocks[\"neighbors\"]]\n",
    "        \n",
    "        #Save the generated lattice\n",
    "        self.save_lattice()\n",
    "        \n",
    "        # Save the figure\n",
    "        plt.savefig(\"lattice_image.png\", dpi=1000)\n",
    "\n",
    "    def save_lattice(self, path = \"lattice_with_neighbors.csv\"):\n",
    "        self.blocks.to_csv(path, index=False)"
   ]
  },
  {
   "cell_type": "code",
   "execution_count": 25,
   "id": "3b54b60b-68b6-4da7-a783-1bc5d507161b",
   "metadata": {},
   "outputs": [],
   "source": [
    "lattice2d = PlanarStoLattice(10000)"
   ]
  },
  {
   "cell_type": "code",
   "execution_count": 26,
   "id": "188c38aa-9c64-47ca-b77a-f929cb0dcbc4",
   "metadata": {},
   "outputs": [
    {
     "name": "stdout",
     "output_type": "stream",
     "text": [
      "39.769142866134644\n"
     ]
    },
    {
     "data": {
      "image/png": "[encoded data removed]",
      "text/plain": [
       "<Figure size 640x480 with 1 Axes>"
      ]
     },
     "metadata": {},
     "output_type": "display_data"
    }
   ],
   "source": [
    "import time\n",
    "\n",
    "start = time.time()\n",
    "lattice2d.generate()\n",
    "end = time.time()\n",
    "print(end - start)"
   ]
  },
  {
   "cell_type": "code",
   "execution_count": null,
   "id": "66815b7c-84b2-4da5-85b8-41d77d9e567a",
   "metadata": {},
   "outputs": [],
   "source": []
  }
 ],
 "metadata": {
  "kernelspec": {
   "display_name": "Python 3 (ipykernel)",
   "language": "python",
   "name": "python3"
  },
  "language_info": {
   "codemirror_mode": {
    "name": "ipython",
    "version": 3
   },
   "file_extension": ".py",
   "mimetype": "text/x-python",
   "name": "python",
   "nbconvert_exporter": "python",
   "pygments_lexer": "ipython3",
   "version": "3.10.13"
  }
 },
 "nbformat": 4,
 "nbformat_minor": 5
}
