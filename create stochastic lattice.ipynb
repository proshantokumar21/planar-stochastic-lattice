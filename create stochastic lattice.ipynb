{
 "cells": [
  {
   "cell_type": "code",
   "execution_count": 2,
   "id": "b9069708-4f03-44f9-b516-75b3e5a62a7a",
   "metadata": {
    "tags": []
   },
   "outputs": [],
   "source": [
    "# Import necessary packages\n",
    "import pandas as pd\n",
    "import random\n",
    "from matplotlib import pyplot as plt"
   ]
  },
  {
   "cell_type": "code",
   "execution_count": 26,
   "id": "8ec6fed4-643a-459d-93de-d9fc47b844ae",
   "metadata": {
    "tags": []
   },
   "outputs": [],
   "source": [
    "from concurrent.futures import ProcessPoolExecutor\n",
    "import os"
   ]
  },
  {
   "cell_type": "code",
   "execution_count": 4,
   "id": "9f412749-8245-467d-a5be-773f68c340fb",
   "metadata": {
    "tags": []
   },
   "outputs": [],
   "source": [
    "# Helper function to check if two blocks share an edge\n",
    "def shares_edge(block_a, block_b):\n",
    "    # Check for shared vertical edges\n",
    "    if (block_a['x2'] == block_b['x1'] and max(block_a['y1'], block_b['y1']) < min(block_a['y3'], block_b['y3'])) or \\\n",
    "       (block_a['x1'] == block_b['x2'] and max(block_a['y1'], block_b['y1']) < min(block_a['y3'], block_b['y3'])):\n",
    "        return True\n",
    "    # Check for shared horizontal edges\n",
    "    if (block_a['y3'] == block_b['y1'] and max(block_a['x1'], block_b['x1']) < min(block_a['x2'], block_b['x2'])) or \\\n",
    "       (block_a['y1'] == block_b['y3'] and max(block_a['x1'], block_b['x1']) < min(block_a['x2'], block_b['x2'])):\n",
    "        return True\n",
    "    return False"
   ]
  },
  {
   "cell_type": "code",
   "execution_count": 27,
   "id": "d29507c9-b2b0-4729-bec8-1c3e10d23652",
   "metadata": {
    "tags": []
   },
   "outputs": [],
   "source": [
    "class PlanarStoLattice:\n",
    "    def __init__(self, time=1, load_lattice=False, lattice_path=\"lattice_with_neighbors.csv\"):\n",
    "        self.blocks = [{\n",
    "            'x1': 0, 'y1': 0,\n",
    "            'x2': 1, 'y2': 0,\n",
    "            'x3': 1, 'y3': 1,\n",
    "            'x4': 0, 'y4': 1,\n",
    "            'xlen': 1, 'ylen': 1,\n",
    "            'neighbors': None}]\n",
    "        self.time = time\n",
    "        self.num_of_blocks = 3*self.time + 1\n",
    "        self.lattice = None  # This will store the dataframe with all information about the lattice\n",
    "        self.percolation = None  # This will store percolation data\n",
    "\n",
    "        if load_lattice:\n",
    "            self.lattice = pd.read_csv(lattice_path)\n",
    "            self.num_of_blocks = len(self.lattice)\n",
    "            self.time = (self.num_of_blocks - 1)/3\n",
    "            self.update_coords_and_area()\n",
    "\n",
    "    def update_coords_and_area(self):\n",
    "        # Extract the coordinates for all blocks once, before the loop\n",
    "        self.x1_coords = self.blocks['x1'].values\n",
    "        self.x2_coords = self.blocks['x2'].values\n",
    "        self.y1_coords = self.blocks['y1'].values\n",
    "        self.y3_coords = self.blocks['y3'].values\n",
    "        self.areas = self.blocks['area'].values\n",
    "        # Convert blocks to a more efficient structure\n",
    "        self.block_neighbors = self.blocks['neighbors'].apply(set).tolist()\n",
    "\n",
    "    def generate(self, path=\"lattice_with_neighbors.csv\"):\n",
    "        linewidth = 0.4\n",
    "        # Draw initial square\n",
    "        plt.hlines([0, 1], 0, 1, linewidth=linewidth)\n",
    "        plt.vlines([0, 1], 0, 1, linewidth=linewidth)\n",
    "\n",
    "        for _ in range(self.time):\n",
    "            # Choose a random block\n",
    "            selected_idx = random.randint(0, len(self.blocks) - 1)\n",
    "            selected_block = self.blocks[selected_idx]\n",
    "\n",
    "            # Calculate random lengths\n",
    "            num_x = random.random() * selected_block['xlen']\n",
    "            num_y = random.random() * selected_block['ylen']\n",
    "\n",
    "            # Calculate new block coordinates\n",
    "            x1, y1 = selected_block['x1'], selected_block['y1']\n",
    "            x2, y2 = x1 + num_x, y1 + num_y\n",
    "            x3, y3 = selected_block['x2'], selected_block['y4']\n",
    "\n",
    "            # Draw dividing lines\n",
    "            plt.hlines(y2, x1, x3, linewidth=linewidth)\n",
    "            plt.vlines(x2, y1, y3, linewidth=linewidth)\n",
    "\n",
    "            # Length of blocks\n",
    "            l = len(self.blocks)\n",
    "\n",
    "            # Create new blocks\n",
    "            block_1 = {'x1': x1, 'y1': y1, 'x2': x2, 'y2': y1, 'x3': x2, 'y3': y2, 'x4': x1, 'y4': y2, 'xlen': num_x, 'ylen': num_y, 'neighbors':[l, l+2]}\n",
    "            block_2 = {'x1': x2, 'y1': y1, 'x2': x3, 'y2': y1, 'x3': x3, 'y3': y2, 'x4': x2, 'y4': y2, 'xlen': x3-x2, 'ylen': num_y, 'neighbors':[selected_idx, l+1]}\n",
    "            block_3 = {'x1': x2, 'y1': y2, 'x2': x3, 'y2': y2, 'x3': x3, 'y3': y3, 'x4': x2, 'y4': y3, 'xlen': x3-x2, 'ylen': y3-y2, 'neighbors':[l, l+2]}\n",
    "            block_4 = {'x1': x1, 'y1': y2, 'x2': x2, 'y2': y2, 'x3': x2, 'y3': y3, 'x4': x1, 'y4': y3, 'xlen': num_x, 'ylen': y3-y2, 'neighbors':[selected_idx, l+1]}\n",
    "\n",
    "            # Save parents neighbors\n",
    "            neighbors = self.blocks[selected_idx]['neighbors']\n",
    "\n",
    "            # Replace the selected block with the new blocks\n",
    "            self.blocks[selected_idx] = block_1\n",
    "            self.blocks.extend([block_2, block_3, block_4])\n",
    "\n",
    "            # Update neighbors\n",
    "            if neighbors is not None:\n",
    "                for j in neighbors:\n",
    "                    self.blocks[j]['neighbors'].remove(selected_idx)  # Delete selected block index from the previous neighbors\n",
    "                for i in [selected_idx, l, l+1, l+2]:\n",
    "                    for j in neighbors:\n",
    "                        if shares_edge(self.blocks[i], self.blocks[j]):\n",
    "                            self.blocks[i]['neighbors'].append(j)\n",
    "                            self.blocks[j]['neighbors'].append(i)\n",
    "\n",
    "        # Convert final list of blocks to a DataFrame\n",
    "        self.blocks = pd.DataFrame(self.blocks)\n",
    "\n",
    "        # Count number of neighbors for each block\n",
    "        self.blocks[\"number_of_neighbors\"] = [len(i) for i in self.blocks[\"neighbors\"]]\n",
    "\n",
    "        # Area of each block\n",
    "        self.blocks[\"area\"] = self.blocks[\"xlen\"] * self.blocks[\"ylen\"]\n",
    "\n",
    "        # Update object coord_and_area\n",
    "        self.update_coords_and_area()\n",
    "\n",
    "        # Save the generated lattice\n",
    "        self.save_lattice(path=path)\n",
    "\n",
    "        # Save the figure\n",
    "        plt.savefig(\"lattice_image.png\", dpi=1000)\n",
    "\n",
    "    def save_lattice(self, path=\"lattice_with_neighbors.csv\"):\n",
    "        self.blocks.to_csv(path, index=False)\n",
    "\n",
    "    def save_percolation(self, path=\"percolation_data.csv\"):\n",
    "        self.percolation.to_csv(path, index=False)\n",
    "\n",
    "    def percolate(self, path=\"percolation_data.csv\", area_dist = True, span_dist = True):\n",
    "        # area_dist: Tracking area distribution is a computationally heavy task. Set it true only when necessary\n",
    "        # Generate random sequence of percolation\n",
    "        list_of_idx = list(range(self.num_of_blocks))\n",
    "        random.shuffle(list_of_idx)\n",
    "        # print(list_of_idx)\n",
    "    \n",
    "        # Variables to store clusters data and percolation data\n",
    "        clusters = {}  # {({bloccks idxes forming the cluster}, {neigbors idxes}, [area of the cluster])}\n",
    "        percolation_data = []\n",
    "    \n",
    "        does_span = False  # Variable to check if we have a spanning cluster\n",
    "\n",
    "        #A variable to store the total cluster area\n",
    "        clusters_area = 0\n",
    "    \n",
    "        # Start percolation\n",
    "        for count, idx in enumerate(list_of_idx):\n",
    "            # Set of cluster indexes which neighbors list contain the new block\n",
    "            expanding_clusters_idx = set()\n",
    "    \n",
    "            # Check if the new block is a new cluster or expands existing cluster(s)\n",
    "            for cluster_idx, (cluster_blocks, cluster_neighbors, areas) in clusters.items():\n",
    "                if idx in cluster_neighbors:\n",
    "                    expanding_clusters_idx.add(cluster_idx)\n",
    "    \n",
    "            # If the new block is a new cluster, create a new entry\n",
    "            if not expanding_clusters_idx:\n",
    "                clusters[count] = ({idx}, self.block_neighbors[idx], self.areas[idx] if area_dist else 0)\n",
    "            else:\n",
    "                # Merge expanding clusters\n",
    "                new_cluster = set()\n",
    "                new_neighbor_list = set()\n",
    "                new_areas = 0\n",
    "                for cluster_idx in expanding_clusters_idx:\n",
    "                    blocks, neighbors, areas = clusters.pop(cluster_idx)\n",
    "                    new_cluster.update(blocks)\n",
    "                    new_neighbor_list.update(neighbors)\n",
    "                    # Calculate area if area_dist is true\n",
    "                    if area_dist:\n",
    "                        new_areas = new_areas + areas\n",
    "    \n",
    "                # Include the new block\n",
    "                new_cluster.add(idx)\n",
    "                new_neighbor_list.update(self.block_neighbors[idx])\n",
    "                new_neighbor_list.difference_update(new_cluster)\n",
    "                if area_dist:\n",
    "                    new_areas = new_areas + self.areas[idx]\n",
    "    \n",
    "                # Update the clusters\n",
    "                clusters[count] = (new_cluster, new_neighbor_list, new_areas)\n",
    "    \n",
    "            # Check if the new cluster spans the lattice\n",
    "            if not does_span:\n",
    "                does_span = self.check_spanning(clusters[count][0])\n",
    "    \n",
    "            # Calculate total area of all clusters\n",
    "            clusters_area += self.areas[idx]\n",
    "\n",
    "            if span_dist and does_span:\n",
    "                # (Spanned cluster area, total occupied area, count, num of clusters while spans)\n",
    "                return (areas, clusters_area, count + 1, len(clusters))\n",
    "\n",
    "            if not span_dist:\n",
    "                # Store necessary data in dictionary\n",
    "                percolation_data.append({\n",
    "                    \"n\": count + 1,\n",
    "                    \"number_of_clusters\": len(clusters),\n",
    "                    \"does_span\": does_span,\n",
    "                    \"total_cluster_area\": clusters_area,\n",
    "                    \"occupation_prob\": (count + 1) / self.num_of_blocks\n",
    "                })\n",
    "        if not span_dist:\n",
    "            self.percolation = pd.DataFrame(percolation_data)\n",
    "            self.save_percolation(path=path)\n",
    "\n",
    "    def check_spanning(self, cluster_blocks):        \n",
    "        # Initialize variables to track the minimum and maximum coordinates\n",
    "        min_x, max_x = 1, 0\n",
    "        min_y, max_y = 1, 0\n",
    "        \n",
    "        # Iterate over each block index in the cluster\n",
    "        for block_idx in cluster_blocks:\n",
    "            # Update the minimum and maximum x and y coordinates\n",
    "            min_x = min(min_x, self.x1_coords[block_idx], self.x2_coords[block_idx])\n",
    "            max_x = max(max_x, self.x1_coords[block_idx], self.x2_coords[block_idx])\n",
    "            min_y = min(min_y, self.y1_coords[block_idx], self.y3_coords[block_idx])\n",
    "            max_y = max(max_y, self.y1_coords[block_idx], self.y3_coords[block_idx])\n",
    "        \n",
    "        # Check if the cluster spans horizontally from x=0 to x=1\n",
    "        horizontal_spanning = min_x == 0 and max_x == 1\n",
    "        # Check if the cluster spans vertically from y=0 to y=1\n",
    "        vertical_spanning = min_y == 0 and max_y == 1\n",
    "    \n",
    "        return horizontal_spanning or vertical_spanning\n",
    "\n",
    "    # def spanning_prob_dist(self, iter = 10):\n",
    "    #     data = []\n",
    "    #     for m in range(iter):\n",
    "    #         spanning_area, cluster_area, spanning_n, num_clusters = self.percolate()\n",
    "    #         data.append({\"spanning cluster area\": spanning_area,\n",
    "    #                     \"total occupied area\": cluster_area,\n",
    "    #                     \"total num of clusters\": num_clusters,\n",
    "    #                     \"spanning_n\": spanning_n,\n",
    "    #                     \"spanning prob\": spanning_n/self.num_of_blocks})\n",
    "    #     dist_data = pd.DataFrame(data)\n",
    "    #     dist_data.to_csv(\"spanning probability dist.csv\", index=False)\n",
    "    #     return pd.DataFrame(data)\n",
    "    \n",
    "    \n",
    "    def _percolate_wrapper(self):\n",
    "        spanning_area, cluster_area, spanning_n, num_clusters = self.percolate()\n",
    "        return {\n",
    "            \"spanning cluster area\": spanning_area,\n",
    "            \"total occupied area\": cluster_area,\n",
    "            \"total num of clusters\": num_clusters,\n",
    "            \"spanning_n\": spanning_n,\n",
    "            \"spanning prob\": spanning_n / self.num_of_blocks\n",
    "        }\n",
    "\n",
    "#     def spanning_prob_dist(self, iter=10):\n",
    "#         with ProcessPoolExecutor() as executor:\n",
    "#             futures = [executor.submit(self._percolate_wrapper) for _ in range(iter)]\n",
    "#             data = [future.result() for future in futures]\n",
    "\n",
    "#         dist_data = pd.DataFrame(data)\n",
    "#         dist_data.to_csv(\"spanning probability dist.csv\", index=False)\n",
    "#         return dist_data\n",
    "\n",
    "#     def spanning_prob_dist(self, iter=100):\n",
    "#         batch_size = 100\n",
    "#         all_data = []\n",
    "\n",
    "#         with ProcessPoolExecutor() as executor:\n",
    "#             for i in range(0, iter, batch_size):\n",
    "#                 # Determine the size of the current batch\n",
    "#                 current_batch_size = min(batch_size, iter - i)\n",
    "\n",
    "#                 # Submit a batch of jobs to the executor\n",
    "#                 futures = [executor.submit(self._percolate_wrapper) for _ in range(current_batch_size)]\n",
    "\n",
    "#                 # Collect the results for the current batch\n",
    "#                 data = [future.result() for future in futures]\n",
    "#                 all_data.extend(data)\n",
    "\n",
    "#                 # Convert the current batch of results to a DataFrame\n",
    "#                 batch_data = pd.DataFrame(data)\n",
    "\n",
    "#                 # Save the current batch to CSV\n",
    "#                 # If it's the first batch, write header, otherwise append without header\n",
    "#                 batch_data.to_csv(\"spanning probability dist.csv\", mode='a', index=False, header=not i)\n",
    "\n",
    "#         # Combine all batches into a single DataFrame\n",
    "#         dist_data = pd.DataFrame(all_data)\n",
    "#         return dist_data\n",
    "\n",
    "    def spanning_prob_dist(self, iter=10):\n",
    "        batch_size = 100\n",
    "        all_data = []\n",
    "        # Filename includes the number of iterations (self.time)\n",
    "        filename = f\"spanning probability dist t_{self.time}.csv\"\n",
    "        # Check if the file already exists\n",
    "        file_exists = os.path.isfile(filename)\n",
    "        \n",
    "        with ProcessPoolExecutor() as executor:\n",
    "            for i in range(0, iter, batch_size):\n",
    "                # Determine the size of the current batch\n",
    "                current_batch_size = min(batch_size, iter - i)\n",
    "                \n",
    "                # Submit a batch of jobs to the executor\n",
    "                futures = [executor.submit(self._percolate_wrapper) for _ in range(current_batch_size)]\n",
    "                \n",
    "                # Collect the results for the current batch\n",
    "                data = [future.result() for future in futures]\n",
    "                all_data.extend(data)\n",
    "\n",
    "                # Convert the current batch of results to a DataFrame\n",
    "                batch_data = pd.DataFrame(data)\n",
    "                \n",
    "                # Save the current batch to CSV\n",
    "                # If it's the first batch and the file does not exist, write header\n",
    "                # Otherwise, append without header\n",
    "                batch_data.to_csv(filename, mode='a', index=False, header=not (i or file_exists))\n",
    "                file_exists = True  # Set to True as file will exist after the first write\n",
    "        \n",
    "        # Combine all batches into a single DataFrame\n",
    "        dist_data = pd.DataFrame(all_data)\n",
    "        return dist_data\n"
   ]
  },
  {
   "cell_type": "code",
   "execution_count": 31,
   "id": "188c38aa-9c64-47ca-b77a-f929cb0dcbc4",
   "metadata": {
    "tags": []
   },
   "outputs": [
    {
     "name": "stdout",
     "output_type": "stream",
     "text": [
      "22.96267056465149\n"
     ]
    },
    {
     "data": {
      "image/png": "[encoded data removed]",
      "text/plain": [
       "<Figure size 640x480 with 1 Axes>"
      ]
     },
     "metadata": {},
     "output_type": "display_data"
    }
   ],
   "source": [
    "import time\n",
    "lattice2d = PlanarStoLattice(10000)\n",
    "start = time.time()\n",
    "lattice2d.generate()\n",
    "end = time.time()\n",
    "print(end - start)"
   ]
  },
  {
   "cell_type": "code",
   "execution_count": 32,
   "id": "88fe3a5d",
   "metadata": {
    "tags": []
   },
   "outputs": [
    {
     "name": "stdout",
     "output_type": "stream",
     "text": [
      "9.412530183792114\n"
     ]
    }
   ],
   "source": [
    "start = time.time()\n",
    "lattice2d.percolate()\n",
    "end = time.time()\n",
    "print(end - start)"
   ]
  },
  {
   "cell_type": "code",
   "execution_count": 35,
   "id": "d0795fe6-8587-45e5-9ec1-f376b240f993",
   "metadata": {
    "tags": []
   },
   "outputs": [
    {
     "name": "stdout",
     "output_type": "stream",
     "text": [
      "2772.3288321495056\n"
     ]
    }
   ],
   "source": [
    "start = time.time()\n",
    "lattice2d.spanning_prob_dist(800)\n",
    "end = time.time()\n",
    "print(end - start)"
   ]
  },
  {
   "cell_type": "code",
   "execution_count": 11,
   "id": "6de87c5c-b145-43c1-84f9-d2d55f2a22c1",
   "metadata": {
    "tags": []
   },
   "outputs": [
    {
     "name": "stdout",
     "output_type": "stream",
     "text": [
      "         7074933 function calls in 15.531 seconds\n",
      "\n",
      "   Ordered by: internal time\n",
      "\n",
      "   ncalls  tottime  percall  cumtime  percall filename:lineno(function)\n",
      "        1   11.687   11.687   15.528   15.528 1572727246.py:105(percolate)\n",
      "    22422    2.256    0.000    3.580    0.000 1572727246.py:181(check_spanning)\n",
      "  3374106    0.676    0.000    0.676    0.000 {built-in method builtins.min}\n",
      "  3374106    0.648    0.000    0.648    0.000 {built-in method builtins.max}\n",
      "    55615    0.153    0.000    0.153    0.000 {method 'update' of 'set' objects}\n",
      "    14879    0.047    0.000    0.047    0.000 {method 'difference_update' of 'set' objects}\n",
      "    45000    0.020    0.000    0.028    0.000 random.py:239(_randbelow_with_getrandbits)\n",
      "        1    0.017    0.017    0.045    0.045 random.py:380(shuffle)\n",
      "    35247    0.006    0.000    0.006    0.000 {method 'add' of 'set' objects}\n",
      "    20368    0.006    0.000    0.006    0.000 {method 'pop' of 'dict' objects}\n",
      "    65761    0.005    0.000    0.005    0.000 {method 'getrandbits' of '_random.Random' objects}\n",
      "        1    0.003    0.003   15.531   15.531 <string>:1(<module>)\n",
      "    22422    0.003    0.000    0.003    0.000 {method 'items' of 'dict' objects}\n",
      "    45000    0.003    0.000    0.003    0.000 {method 'bit_length' of 'int' objects}\n",
      "        1    0.000    0.000   15.531   15.531 {built-in method builtins.exec}\n",
      "        2    0.000    0.000    0.000    0.000 {built-in method builtins.len}\n",
      "        1    0.000    0.000    0.000    0.000 {method 'disable' of '_lsprof.Profiler' objects}\n",
      "\n",
      "\n"
     ]
    },
    {
     "data": {
      "image/png": "[encoded data removed]",
      "text/plain": [
       "<Figure size 640x480 with 1 Axes>"
      ]
     },
     "metadata": {},
     "output_type": "display_data"
    }
   ],
   "source": [
    "# Performance check\n",
    "import cProfile\n",
    "\n",
    "# Assuming you have an instance of PlanarStoLattice called lattice\n",
    "lattice = PlanarStoLattice(time=15000)\n",
    "lattice.generate()\n",
    "\n",
    "# Now profile the percolate method\n",
    "cProfile.run('lattice.percolate(area_dist = True)', sort='tottime')"
   ]
  },
  {
   "cell_type": "code",
   "execution_count": 17,
   "id": "8620ce5b-7414-4bda-b384-313489298d90",
   "metadata": {},
   "outputs": [],
   "source": [
    "test = (1,{1,2},[2])"
   ]
  },
  {
   "cell_type": "code",
   "execution_count": 18,
   "id": "b39bfd62-fd11-4ea3-87de-dfcb3cebf830",
   "metadata": {},
   "outputs": [],
   "source": [
    "test[2][0] = test[2][0] + 2"
   ]
  },
  {
   "cell_type": "code",
   "execution_count": 19,
   "id": "61b80ce8-8cb2-4b5e-95cc-183b804fa8eb",
   "metadata": {},
   "outputs": [
    {
     "data": {
      "text/plain": [
       "(1, {1, 2}, [4])"
      ]
     },
     "execution_count": 19,
     "metadata": {},
     "output_type": "execute_result"
    }
   ],
   "source": [
    "test"
   ]
  },
  {
   "cell_type": "code",
   "execution_count": 12,
   "id": "5d7757c7-c200-4c61-81d5-f7960e81928c",
   "metadata": {},
   "outputs": [
    {
     "data": {
      "text/plain": [
       "array([2])"
      ]
     },
     "execution_count": 12,
     "metadata": {},
     "output_type": "execute_result"
    }
   ],
   "source": [
    "np.array([2])"
   ]
  },
  {
   "cell_type": "code",
   "execution_count": null,
   "id": "fd04f106-1090-4add-88b5-5cbc80643fb6",
   "metadata": {},
   "outputs": [],
   "source": []
  }
 ],
 "metadata": {
  "availableInstances": [
   {
    "_defaultOrder": 0,
    "_isFastLaunch": true,
    "category": "General purpose",
    "gpuNum": 0,
    "hideHardwareSpecs": false,
    "memoryGiB": 4,
    "name": "ml.t3.medium",
    "vcpuNum": 2
   },
   {
    "_defaultOrder": 1,
    "_isFastLaunch": false,
    "category": "General purpose",
    "gpuNum": 0,
    "hideHardwareSpecs": false,
    "memoryGiB": 8,
    "name": "ml.t3.large",
    "vcpuNum": 2
   },
   {
    "_defaultOrder": 2,
    "_isFastLaunch": false,
    "category": "General purpose",
    "gpuNum": 0,
    "hideHardwareSpecs": false,
    "memoryGiB": 16,
    "name": "ml.t3.xlarge",
    "vcpuNum": 4
   },
   {
    "_defaultOrder": 3,
    "_isFastLaunch": false,
    "category": "General purpose",
    "gpuNum": 0,
    "hideHardwareSpecs": false,
    "memoryGiB": 32,
    "name": "ml.t3.2xlarge",
    "vcpuNum": 8
   },
   {
    "_defaultOrder": 4,
    "_isFastLaunch": true,
    "category": "General purpose",
    "gpuNum": 0,
    "hideHardwareSpecs": false,
    "memoryGiB": 8,
    "name": "ml.m5.large",
    "vcpuNum": 2
   },
   {
    "_defaultOrder": 5,
    "_isFastLaunch": false,
    "category": "General purpose",
    "gpuNum": 0,
    "hideHardwareSpecs": false,
    "memoryGiB": 16,
    "name": "ml.m5.xlarge",
    "vcpuNum": 4
   },
   {
    "_defaultOrder": 6,
    "_isFastLaunch": false,
    "category": "General purpose",
    "gpuNum": 0,
    "hideHardwareSpecs": false,
    "memoryGiB": 32,
    "name": "ml.m5.2xlarge",
    "vcpuNum": 8
   },
   {
    "_defaultOrder": 7,
    "_isFastLaunch": false,
    "category": "General purpose",
    "gpuNum": 0,
    "hideHardwareSpecs": false,
    "memoryGiB": 64,
    "name": "ml.m5.4xlarge",
    "vcpuNum": 16
   },
   {
    "_defaultOrder": 8,
    "_isFastLaunch": false,
    "category": "General purpose",
    "gpuNum": 0,
    "hideHardwareSpecs": false,
    "memoryGiB": 128,
    "name": "ml.m5.8xlarge",
    "vcpuNum": 32
   },
   {
    "_defaultOrder": 9,
    "_isFastLaunch": false,
    "category": "General purpose",
    "gpuNum": 0,
    "hideHardwareSpecs": false,
    "memoryGiB": 192,
    "name": "ml.m5.12xlarge",
    "vcpuNum": 48
   },
   {
    "_defaultOrder": 10,
    "_isFastLaunch": false,
    "category": "General purpose",
    "gpuNum": 0,
    "hideHardwareSpecs": false,
    "memoryGiB": 256,
    "name": "ml.m5.16xlarge",
    "vcpuNum": 64
   },
   {
    "_defaultOrder": 11,
    "_isFastLaunch": false,
    "category": "General purpose",
    "gpuNum": 0,
    "hideHardwareSpecs": false,
    "memoryGiB": 384,
    "name": "ml.m5.24xlarge",
    "vcpuNum": 96
   },
   {
    "_defaultOrder": 12,
    "_isFastLaunch": false,
    "category": "General purpose",
    "gpuNum": 0,
    "hideHardwareSpecs": false,
    "memoryGiB": 8,
    "name": "ml.m5d.large",
    "vcpuNum": 2
   },
   {
    "_defaultOrder": 13,
    "_isFastLaunch": false,
    "category": "General purpose",
    "gpuNum": 0,
    "hideHardwareSpecs": false,
    "memoryGiB": 16,
    "name": "ml.m5d.xlarge",
    "vcpuNum": 4
   },
   {
    "_defaultOrder": 14,
    "_isFastLaunch": false,
    "category": "General purpose",
    "gpuNum": 0,
    "hideHardwareSpecs": false,
    "memoryGiB": 32,
    "name": "ml.m5d.2xlarge",
    "vcpuNum": 8
   },
   {
    "_defaultOrder": 15,
    "_isFastLaunch": false,
    "category": "General purpose",
    "gpuNum": 0,
    "hideHardwareSpecs": false,
    "memoryGiB": 64,
    "name": "ml.m5d.4xlarge",
    "vcpuNum": 16
   },
   {
    "_defaultOrder": 16,
    "_isFastLaunch": false,
    "category": "General purpose",
    "gpuNum": 0,
    "hideHardwareSpecs": false,
    "memoryGiB": 128,
    "name": "ml.m5d.8xlarge",
    "vcpuNum": 32
   },
   {
    "_defaultOrder": 17,
    "_isFastLaunch": false,
    "category": "General purpose",
    "gpuNum": 0,
    "hideHardwareSpecs": false,
    "memoryGiB": 192,
    "name": "ml.m5d.12xlarge",
    "vcpuNum": 48
   },
   {
    "_defaultOrder": 18,
    "_isFastLaunch": false,
    "category": "General purpose",
    "gpuNum": 0,
    "hideHardwareSpecs": false,
    "memoryGiB": 256,
    "name": "ml.m5d.16xlarge",
    "vcpuNum": 64
   },
   {
    "_defaultOrder": 19,
    "_isFastLaunch": false,
    "category": "General purpose",
    "gpuNum": 0,
    "hideHardwareSpecs": false,
    "memoryGiB": 384,
    "name": "ml.m5d.24xlarge",
    "vcpuNum": 96
   },
   {
    "_defaultOrder": 20,
    "_isFastLaunch": false,
    "category": "General purpose",
    "gpuNum": 0,
    "hideHardwareSpecs": true,
    "memoryGiB": 0,
    "name": "ml.geospatial.interactive",
    "supportedImageNames": [
     "sagemaker-geospatial-v1-0"
    ],
    "vcpuNum": 0
   },
   {
    "_defaultOrder": 21,
    "_isFastLaunch": true,
    "category": "Compute optimized",
    "gpuNum": 0,
    "hideHardwareSpecs": false,
    "memoryGiB": 4,
    "name": "ml.c5.large",
    "vcpuNum": 2
   },
   {
    "_defaultOrder": 22,
    "_isFastLaunch": false,
    "category": "Compute optimized",
    "gpuNum": 0,
    "hideHardwareSpecs": false,
    "memoryGiB": 8,
    "name": "ml.c5.xlarge",
    "vcpuNum": 4
   },
   {
    "_defaultOrder": 23,
    "_isFastLaunch": false,
    "category": "Compute optimized",
    "gpuNum": 0,
    "hideHardwareSpecs": false,
    "memoryGiB": 16,
    "name": "ml.c5.2xlarge",
    "vcpuNum": 8
   },
   {
    "_defaultOrder": 24,
    "_isFastLaunch": false,
    "category": "Compute optimized",
    "gpuNum": 0,
    "hideHardwareSpecs": false,
    "memoryGiB": 32,
    "name": "ml.c5.4xlarge",
    "vcpuNum": 16
   },
   {
    "_defaultOrder": 25,
    "_isFastLaunch": false,
    "category": "Compute optimized",
    "gpuNum": 0,
    "hideHardwareSpecs": false,
    "memoryGiB": 72,
    "name": "ml.c5.9xlarge",
    "vcpuNum": 36
   },
   {
    "_defaultOrder": 26,
    "_isFastLaunch": false,
    "category": "Compute optimized",
    "gpuNum": 0,
    "hideHardwareSpecs": false,
    "memoryGiB": 96,
    "name": "ml.c5.12xlarge",
    "vcpuNum": 48
   },
   {
    "_defaultOrder": 27,
    "_isFastLaunch": false,
    "category": "Compute optimized",
    "gpuNum": 0,
    "hideHardwareSpecs": false,
    "memoryGiB": 144,
    "name": "ml.c5.18xlarge",
    "vcpuNum": 72
   },
   {
    "_defaultOrder": 28,
    "_isFastLaunch": false,
    "category": "Compute optimized",
    "gpuNum": 0,
    "hideHardwareSpecs": false,
    "memoryGiB": 192,
    "name": "ml.c5.24xlarge",
    "vcpuNum": 96
   },
   {
    "_defaultOrder": 29,
    "_isFastLaunch": true,
    "category": "Accelerated computing",
    "gpuNum": 1,
    "hideHardwareSpecs": false,
    "memoryGiB": 16,
    "name": "ml.g4dn.xlarge",
    "vcpuNum": 4
   },
   {
    "_defaultOrder": 30,
    "_isFastLaunch": false,
    "category": "Accelerated computing",
    "gpuNum": 1,
    "hideHardwareSpecs": false,
    "memoryGiB": 32,
    "name": "ml.g4dn.2xlarge",
    "vcpuNum": 8
   },
   {
    "_defaultOrder": 31,
    "_isFastLaunch": false,
    "category": "Accelerated computing",
    "gpuNum": 1,
    "hideHardwareSpecs": false,
    "memoryGiB": 64,
    "name": "ml.g4dn.4xlarge",
    "vcpuNum": 16
   },
   {
    "_defaultOrder": 32,
    "_isFastLaunch": false,
    "category": "Accelerated computing",
    "gpuNum": 1,
    "hideHardwareSpecs": false,
    "memoryGiB": 128,
    "name": "ml.g4dn.8xlarge",
    "vcpuNum": 32
   },
   {
    "_defaultOrder": 33,
    "_isFastLaunch": false,
    "category": "Accelerated computing",
    "gpuNum": 4,
    "hideHardwareSpecs": false,
    "memoryGiB": 192,
    "name": "ml.g4dn.12xlarge",
    "vcpuNum": 48
   },
   {
    "_defaultOrder": 34,
    "_isFastLaunch": false,
    "category": "Accelerated computing",
    "gpuNum": 1,
    "hideHardwareSpecs": false,
    "memoryGiB": 256,
    "name": "ml.g4dn.16xlarge",
    "vcpuNum": 64
   },
   {
    "_defaultOrder": 35,
    "_isFastLaunch": false,
    "category": "Accelerated computing",
    "gpuNum": 1,
    "hideHardwareSpecs": false,
    "memoryGiB": 61,
    "name": "ml.p3.2xlarge",
    "vcpuNum": 8
   },
   {
    "_defaultOrder": 36,
    "_isFastLaunch": false,
    "category": "Accelerated computing",
    "gpuNum": 4,
    "hideHardwareSpecs": false,
    "memoryGiB": 244,
    "name": "ml.p3.8xlarge",
    "vcpuNum": 32
   },
   {
    "_defaultOrder": 37,
    "_isFastLaunch": false,
    "category": "Accelerated computing",
    "gpuNum": 8,
    "hideHardwareSpecs": false,
    "memoryGiB": 488,
    "name": "ml.p3.16xlarge",
    "vcpuNum": 64
   },
   {
    "_defaultOrder": 38,
    "_isFastLaunch": false,
    "category": "Accelerated computing",
    "gpuNum": 8,
    "hideHardwareSpecs": false,
    "memoryGiB": 768,
    "name": "ml.p3dn.24xlarge",
    "vcpuNum": 96
   },
   {
    "_defaultOrder": 39,
    "_isFastLaunch": false,
    "category": "Memory Optimized",
    "gpuNum": 0,
    "hideHardwareSpecs": false,
    "memoryGiB": 16,
    "name": "ml.r5.large",
    "vcpuNum": 2
   },
   {
    "_defaultOrder": 40,
    "_isFastLaunch": false,
    "category": "Memory Optimized",
    "gpuNum": 0,
    "hideHardwareSpecs": false,
    "memoryGiB": 32,
    "name": "ml.r5.xlarge",
    "vcpuNum": 4
   },
   {
    "_defaultOrder": 41,
    "_isFastLaunch": false,
    "category": "Memory Optimized",
    "gpuNum": 0,
    "hideHardwareSpecs": false,
    "memoryGiB": 64,
    "name": "ml.r5.2xlarge",
    "vcpuNum": 8
   },
   {
    "_defaultOrder": 42,
    "_isFastLaunch": false,
    "category": "Memory Optimized",
    "gpuNum": 0,
    "hideHardwareSpecs": false,
    "memoryGiB": 128,
    "name": "ml.r5.4xlarge",
    "vcpuNum": 16
   },
   {
    "_defaultOrder": 43,
    "_isFastLaunch": false,
    "category": "Memory Optimized",
    "gpuNum": 0,
    "hideHardwareSpecs": false,
    "memoryGiB": 256,
    "name": "ml.r5.8xlarge",
    "vcpuNum": 32
   },
   {
    "_defaultOrder": 44,
    "_isFastLaunch": false,
    "category": "Memory Optimized",
    "gpuNum": 0,
    "hideHardwareSpecs": false,
    "memoryGiB": 384,
    "name": "ml.r5.12xlarge",
    "vcpuNum": 48
   },
   {
    "_defaultOrder": 45,
    "_isFastLaunch": false,
    "category": "Memory Optimized",
    "gpuNum": 0,
    "hideHardwareSpecs": false,
    "memoryGiB": 512,
    "name": "ml.r5.16xlarge",
    "vcpuNum": 64
   },
   {
    "_defaultOrder": 46,
    "_isFastLaunch": false,
    "category": "Memory Optimized",
    "gpuNum": 0,
    "hideHardwareSpecs": false,
    "memoryGiB": 768,
    "name": "ml.r5.24xlarge",
    "vcpuNum": 96
   },
   {
    "_defaultOrder": 47,
    "_isFastLaunch": false,
    "category": "Accelerated computing",
    "gpuNum": 1,
    "hideHardwareSpecs": false,
    "memoryGiB": 16,
    "name": "ml.g5.xlarge",
    "vcpuNum": 4
   },
   {
    "_defaultOrder": 48,
    "_isFastLaunch": false,
    "category": "Accelerated computing",
    "gpuNum": 1,
    "hideHardwareSpecs": false,
    "memoryGiB": 32,
    "name": "ml.g5.2xlarge",
    "vcpuNum": 8
   },
   {
    "_defaultOrder": 49,
    "_isFastLaunch": false,
    "category": "Accelerated computing",
    "gpuNum": 1,
    "hideHardwareSpecs": false,
    "memoryGiB": 64,
    "name": "ml.g5.4xlarge",
    "vcpuNum": 16
   },
   {
    "_defaultOrder": 50,
    "_isFastLaunch": false,
    "category": "Accelerated computing",
    "gpuNum": 1,
    "hideHardwareSpecs": false,
    "memoryGiB": 128,
    "name": "ml.g5.8xlarge",
    "vcpuNum": 32
   },
   {
    "_defaultOrder": 51,
    "_isFastLaunch": false,
    "category": "Accelerated computing",
    "gpuNum": 1,
    "hideHardwareSpecs": false,
    "memoryGiB": 256,
    "name": "ml.g5.16xlarge",
    "vcpuNum": 64
   },
   {
    "_defaultOrder": 52,
    "_isFastLaunch": false,
    "category": "Accelerated computing",
    "gpuNum": 4,
    "hideHardwareSpecs": false,
    "memoryGiB": 192,
    "name": "ml.g5.12xlarge",
    "vcpuNum": 48
   },
   {
    "_defaultOrder": 53,
    "_isFastLaunch": false,
    "category": "Accelerated computing",
    "gpuNum": 4,
    "hideHardwareSpecs": false,
    "memoryGiB": 384,
    "name": "ml.g5.24xlarge",
    "vcpuNum": 96
   },
   {
    "_defaultOrder": 54,
    "_isFastLaunch": false,
    "category": "Accelerated computing",
    "gpuNum": 8,
    "hideHardwareSpecs": false,
    "memoryGiB": 768,
    "name": "ml.g5.48xlarge",
    "vcpuNum": 192
   },
   {
    "_defaultOrder": 55,
    "_isFastLaunch": false,
    "category": "Accelerated computing",
    "gpuNum": 8,
    "hideHardwareSpecs": false,
    "memoryGiB": 1152,
    "name": "ml.p4d.24xlarge",
    "vcpuNum": 96
   },
   {
    "_defaultOrder": 56,
    "_isFastLaunch": false,
    "category": "Accelerated computing",
    "gpuNum": 8,
    "hideHardwareSpecs": false,
    "memoryGiB": 1152,
    "name": "ml.p4de.24xlarge",
    "vcpuNum": 96
   },
   {
    "_defaultOrder": 57,
    "_isFastLaunch": false,
    "category": "Accelerated computing",
    "gpuNum": 0,
    "hideHardwareSpecs": false,
    "memoryGiB": 32,
    "name": "ml.trn1.2xlarge",
    "vcpuNum": 8
   },
   {
    "_defaultOrder": 58,
    "_isFastLaunch": false,
    "category": "Accelerated computing",
    "gpuNum": 0,
    "hideHardwareSpecs": false,
    "memoryGiB": 512,
    "name": "ml.trn1.32xlarge",
    "vcpuNum": 128
   },
   {
    "_defaultOrder": 59,
    "_isFastLaunch": false,
    "category": "Accelerated computing",
    "gpuNum": 0,
    "hideHardwareSpecs": false,
    "memoryGiB": 512,
    "name": "ml.trn1n.32xlarge",
    "vcpuNum": 128
   }
  ],
  "instance_type": "ml.c5.2xlarge",
  "kernelspec": {
   "display_name": "Python 3 (Data Science 3.0)",
   "language": "python",
   "name": "python3__SAGEMAKER_INTERNAL__arn:aws:sagemaker:us-east-1:081325390199:image/sagemaker-data-science-310-v1"
  },
  "language_info": {
   "codemirror_mode": {
    "name": "ipython",
    "version": 3
   },
   "file_extension": ".py",
   "mimetype": "text/x-python",
   "name": "python",
   "nbconvert_exporter": "python",
   "pygments_lexer": "ipython3",
   "version": "3.10.6"
  }
 },
 "nbformat": 4,
 "nbformat_minor": 5
}
